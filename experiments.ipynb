{
 "cells": [
  {
   "cell_type": "markdown",
   "id": "1f799f77-2472-4645-b18f-df8b4c1e8e49",
   "metadata": {},
   "source": [
    "# Setup"
   ]
  },
  {
   "cell_type": "code",
   "execution_count": 3,
   "id": "4cd59c39-1a6c-470f-91ad-cbcd82d7e266",
   "metadata": {},
   "outputs": [],
   "source": [
    "# Import packages\n",
    "import numpy as np\n",
    "import pandas as pd\n",
    "import matplotlib.pyplot as plt\n",
    "import seaborn as sns\n",
    "\n",
    "# Import custom implementations\n",
    "#import SVDRecommender"
   ]
  },
  {
   "cell_type": "markdown",
   "id": "a23109be-da0f-4fc1-98b6-358ff4d6bef6",
   "metadata": {},
   "source": [
    "# Loading data"
   ]
  },
  {
   "cell_type": "markdown",
   "id": "34ebaf07-9109-4c39-b100-54890017280b",
   "metadata": {},
   "source": [
    "# Running experiments"
   ]
  },
  {
   "cell_type": "code",
   "execution_count": 3,
   "id": "c571fb5e-963d-4b86-89a9-bad42462675d",
   "metadata": {},
   "outputs": [],
   "source": [
    "def one_simulation(X_train, X_test, y_train, y_test, recommender, metrics):\n",
    "    \"\"\"\n",
    "    \"\"\"\n",
    "    # Fit recommender on training set\n",
    "\n",
    "    # Get predictions on testing set\n",
    "\n",
    "    # Calculate metrics and save to dictionary\n",
    "\n",
    "    # Return metrics results dictionary\n",
    "    return\n",
    "    \n",
    "def run_simulations(n_repetitions, recommenders, X, y, metrics):\n",
    "    \"\"\"\n",
    "    \"\"\"\n",
    "    # Initialize variables to hold results\n",
    "    \n",
    "    # Iterate over n_repetitions, recommenders\n",
    "        # Randomly train test split data\n",
    "        # Run one_simulation for each repetition X recommender combo\n",
    "        # Save results\n",
    "\n",
    "    # Return all results\n",
    "    return"
   ]
  },
  {
   "cell_type": "code",
   "execution_count": 4,
   "id": "5c1288dc-d929-4220-9f0b-04f5782967ab",
   "metadata": {
    "scrolled": true
   },
   "outputs": [
    {
     "ename": "NameError",
     "evalue": "name 'SVDRecommender' is not defined",
     "output_type": "error",
     "traceback": [
      "\u001b[0;31m---------------------------------------------------------------------------\u001b[0m",
      "\u001b[0;31mNameError\u001b[0m                                 Traceback (most recent call last)",
      "Cell \u001b[0;32mIn[4], line 5\u001b[0m\n\u001b[1;32m      1\u001b[0m \u001b[38;5;66;03m# Runnning experiments\u001b[39;00m\n\u001b[1;32m      2\u001b[0m n_repetitions \u001b[38;5;241m=\u001b[39m \u001b[38;5;241m100\u001b[39m\n\u001b[1;32m      4\u001b[0m recommenders \u001b[38;5;241m=\u001b[39m {\n\u001b[0;32m----> 5\u001b[0m     \u001b[38;5;124m'\u001b[39m\u001b[38;5;124msvd\u001b[39m\u001b[38;5;124m'\u001b[39m : \u001b[43mSVDRecommender\u001b[49m()\n\u001b[1;32m      6\u001b[0m }\n\u001b[1;32m      8\u001b[0m metrics \u001b[38;5;241m=\u001b[39m {\n\u001b[1;32m      9\u001b[0m     \u001b[38;5;124m'\u001b[39m\u001b[38;5;124mrmse\u001b[39m\u001b[38;5;124m'\u001b[39m : rmse\n\u001b[1;32m     10\u001b[0m }\n",
      "\u001b[0;31mNameError\u001b[0m: name 'SVDRecommender' is not defined"
     ]
    }
   ],
   "source": [
    "# Experiment parameters\n",
    "n_repetitions = 100\n",
    "\n",
    "recommenders = {\n",
    "    'svd' : SVDRecommender()\n",
    "}\n",
    "\n",
    "metrics = {\n",
    "    'rmse' : rmse\n",
    "}\n",
    "\n",
    "# Running experiments\n",
    "results = run_simulations(n_repetitions=n_repetitions, recommenders=recommenders, X=X, y=y, metrics=metrics)"
   ]
  },
  {
   "cell_type": "markdown",
   "id": "4d85284d-b86a-4e3f-86fd-a0aaee703e6e",
   "metadata": {},
   "source": [
    "# Results"
   ]
  },
  {
   "cell_type": "code",
   "execution_count": null,
   "id": "d6cc9c23-bf79-4781-b9ae-2dff784aeea4",
   "metadata": {},
   "outputs": [],
   "source": []
  }
 ],
 "metadata": {
  "kernelspec": {
   "display_name": "Python 3 (ipykernel)",
   "language": "python",
   "name": "python3"
  },
  "language_info": {
   "codemirror_mode": {
    "name": "ipython",
    "version": 3
   },
   "file_extension": ".py",
   "mimetype": "text/x-python",
   "name": "python",
   "nbconvert_exporter": "python",
   "pygments_lexer": "ipython3",
   "version": "3.8.5"
  }
 },
 "nbformat": 4,
 "nbformat_minor": 5
}
