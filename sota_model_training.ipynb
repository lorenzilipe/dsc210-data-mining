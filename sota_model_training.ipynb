{
 "cells": [
  {
   "cell_type": "code",
   "execution_count": 1,
   "metadata": {
    "_cell_guid": "b1076dfc-b9ad-4769-8c92-a6c4dae69d19",
    "_uuid": "8f2839f25d086af736a60e9eeb907d3b93b6e0e5",
    "execution": {
     "iopub.execute_input": "2024-12-10T04:44:42.718590Z",
     "iopub.status.busy": "2024-12-10T04:44:42.718339Z",
     "iopub.status.idle": "2024-12-10T04:45:01.818460Z",
     "shell.execute_reply": "2024-12-10T04:45:01.817373Z",
     "shell.execute_reply.started": "2024-12-10T04:44:42.718558Z"
    },
    "trusted": true
   },
   "outputs": [
    {
     "name": "stdout",
     "output_type": "stream",
     "text": [
      "Collecting recbole\n",
      "  Downloading recbole-1.2.0-py3-none-any.whl.metadata (1.4 kB)\n",
      "Requirement already satisfied: torch>=1.10.0 in /opt/conda/lib/python3.10/site-packages (from recbole) (2.4.0)\n",
      "Requirement already satisfied: numpy>=1.17.2 in /opt/conda/lib/python3.10/site-packages (from recbole) (1.26.4)\n",
      "Requirement already satisfied: scipy>=1.6.0 in /opt/conda/lib/python3.10/site-packages (from recbole) (1.14.1)\n",
      "Requirement already satisfied: pandas>=1.4.0 in /opt/conda/lib/python3.10/site-packages (from recbole) (2.2.3)\n",
      "Requirement already satisfied: tqdm>=4.48.2 in /opt/conda/lib/python3.10/site-packages (from recbole) (4.66.4)\n",
      "Collecting colorlog==4.7.2 (from recbole)\n",
      "  Downloading colorlog-4.7.2-py2.py3-none-any.whl.metadata (9.9 kB)\n",
      "Collecting colorama==0.4.4 (from recbole)\n",
      "  Downloading colorama-0.4.4-py2.py3-none-any.whl.metadata (14 kB)\n",
      "Requirement already satisfied: scikit-learn>=0.23.2 in /opt/conda/lib/python3.10/site-packages (from recbole) (1.2.2)\n",
      "Requirement already satisfied: pyyaml>=5.1.0 in /opt/conda/lib/python3.10/site-packages (from recbole) (6.0.2)\n",
      "Requirement already satisfied: tensorboard>=2.5.0 in /opt/conda/lib/python3.10/site-packages (from recbole) (2.16.2)\n",
      "Collecting thop>=0.1.1.post2207130030 (from recbole)\n",
      "  Downloading thop-0.1.1.post2209072238-py3-none-any.whl.metadata (2.7 kB)\n",
      "Requirement already satisfied: tabulate>=0.8.10 in /opt/conda/lib/python3.10/site-packages (from recbole) (0.9.0)\n",
      "Requirement already satisfied: plotly>=4.0.0 in /opt/conda/lib/python3.10/site-packages (from recbole) (5.22.0)\n",
      "Requirement already satisfied: texttable>=0.9.0 in /opt/conda/lib/python3.10/site-packages (from recbole) (1.7.0)\n",
      "Requirement already satisfied: python-dateutil>=2.8.2 in /opt/conda/lib/python3.10/site-packages (from pandas>=1.4.0->recbole) (2.9.0.post0)\n",
      "Requirement already satisfied: pytz>=2020.1 in /opt/conda/lib/python3.10/site-packages (from pandas>=1.4.0->recbole) (2024.1)\n",
      "Requirement already satisfied: tzdata>=2022.7 in /opt/conda/lib/python3.10/site-packages (from pandas>=1.4.0->recbole) (2024.1)\n",
      "Requirement already satisfied: tenacity>=6.2.0 in /opt/conda/lib/python3.10/site-packages (from plotly>=4.0.0->recbole) (8.3.0)\n",
      "Requirement already satisfied: packaging in /opt/conda/lib/python3.10/site-packages (from plotly>=4.0.0->recbole) (21.3)\n",
      "Requirement already satisfied: joblib>=1.1.1 in /opt/conda/lib/python3.10/site-packages (from scikit-learn>=0.23.2->recbole) (1.4.2)\n",
      "Requirement already satisfied: threadpoolctl>=2.0.0 in /opt/conda/lib/python3.10/site-packages (from scikit-learn>=0.23.2->recbole) (3.5.0)\n",
      "Requirement already satisfied: absl-py>=0.4 in /opt/conda/lib/python3.10/site-packages (from tensorboard>=2.5.0->recbole) (1.4.0)\n",
      "Requirement already satisfied: grpcio>=1.48.2 in /opt/conda/lib/python3.10/site-packages (from tensorboard>=2.5.0->recbole) (1.62.2)\n",
      "Requirement already satisfied: markdown>=2.6.8 in /opt/conda/lib/python3.10/site-packages (from tensorboard>=2.5.0->recbole) (3.6)\n",
      "Requirement already satisfied: protobuf!=4.24.0,>=3.19.6 in /opt/conda/lib/python3.10/site-packages (from tensorboard>=2.5.0->recbole) (3.20.3)\n",
      "Requirement already satisfied: setuptools>=41.0.0 in /opt/conda/lib/python3.10/site-packages (from tensorboard>=2.5.0->recbole) (70.0.0)\n",
      "Requirement already satisfied: six>1.9 in /opt/conda/lib/python3.10/site-packages (from tensorboard>=2.5.0->recbole) (1.16.0)\n",
      "Requirement already satisfied: tensorboard-data-server<0.8.0,>=0.7.0 in /opt/conda/lib/python3.10/site-packages (from tensorboard>=2.5.0->recbole) (0.7.2)\n",
      "Requirement already satisfied: werkzeug>=1.0.1 in /opt/conda/lib/python3.10/site-packages (from tensorboard>=2.5.0->recbole) (3.1.3)\n",
      "Requirement already satisfied: filelock in /opt/conda/lib/python3.10/site-packages (from torch>=1.10.0->recbole) (3.15.1)\n",
      "Requirement already satisfied: typing-extensions>=4.8.0 in /opt/conda/lib/python3.10/site-packages (from torch>=1.10.0->recbole) (4.12.2)\n",
      "Requirement already satisfied: sympy in /opt/conda/lib/python3.10/site-packages (from torch>=1.10.0->recbole) (1.13.3)\n",
      "Requirement already satisfied: networkx in /opt/conda/lib/python3.10/site-packages (from torch>=1.10.0->recbole) (3.3)\n",
      "Requirement already satisfied: jinja2 in /opt/conda/lib/python3.10/site-packages (from torch>=1.10.0->recbole) (3.1.4)\n",
      "Requirement already satisfied: fsspec in /opt/conda/lib/python3.10/site-packages (from torch>=1.10.0->recbole) (2024.6.0)\n",
      "Requirement already satisfied: MarkupSafe>=2.1.1 in /opt/conda/lib/python3.10/site-packages (from werkzeug>=1.0.1->tensorboard>=2.5.0->recbole) (2.1.5)\n",
      "Requirement already satisfied: pyparsing!=3.0.5,>=2.0.2 in /opt/conda/lib/python3.10/site-packages (from packaging->plotly>=4.0.0->recbole) (3.1.2)\n",
      "Requirement already satisfied: mpmath<1.4,>=1.1.0 in /opt/conda/lib/python3.10/site-packages (from sympy->torch>=1.10.0->recbole) (1.3.0)\n",
      "Downloading recbole-1.2.0-py3-none-any.whl (2.1 MB)\n",
      "\u001b[2K   \u001b[90m━━━━━━━━━━━━━━━━━━━━━━━━━━━━━━━━━━━━━━━━\u001b[0m \u001b[32m2.1/2.1 MB\u001b[0m \u001b[31m24.2 MB/s\u001b[0m eta \u001b[36m0:00:00\u001b[0m00:01\u001b[0m0:01\u001b[0m\n",
      "\u001b[?25hDownloading colorama-0.4.4-py2.py3-none-any.whl (16 kB)\n",
      "Downloading colorlog-4.7.2-py2.py3-none-any.whl (10 kB)\n",
      "Downloading thop-0.1.1.post2209072238-py3-none-any.whl (15 kB)\n",
      "Installing collected packages: colorlog, colorama, thop, recbole\n",
      "  Attempting uninstall: colorlog\n",
      "    Found existing installation: colorlog 6.9.0\n",
      "    Uninstalling colorlog-6.9.0:\n",
      "      Successfully uninstalled colorlog-6.9.0\n",
      "  Attempting uninstall: colorama\n",
      "    Found existing installation: colorama 0.4.6\n",
      "    Uninstalling colorama-0.4.6:\n",
      "      Successfully uninstalled colorama-0.4.6\n",
      "\u001b[31mERROR: pip's dependency resolver does not currently take into account all the packages that are installed. This behaviour is the source of the following dependency conflicts.\n",
      "bayesian-optimization 2.0.0 requires colorama<0.5.0,>=0.4.6, but you have colorama 0.4.4 which is incompatible.\u001b[0m\u001b[31m\n",
      "\u001b[0mSuccessfully installed colorama-0.4.4 colorlog-4.7.2 recbole-1.2.0 thop-0.1.1.post2209072238\n",
      "Collecting kmeans_pytorch\n",
      "  Downloading kmeans_pytorch-0.3-py3-none-any.whl.metadata (1.6 kB)\n",
      "Downloading kmeans_pytorch-0.3-py3-none-any.whl (4.4 kB)\n",
      "Installing collected packages: kmeans_pytorch\n",
      "Successfully installed kmeans_pytorch-0.3\n"
     ]
    }
   ],
   "source": [
    "! pip install recbole\n",
    "! pip install kmeans_pytorch"
   ]
  },
  {
   "cell_type": "code",
   "execution_count": 2,
   "metadata": {
    "execution": {
     "iopub.execute_input": "2024-12-10T04:45:01.823755Z",
     "iopub.status.busy": "2024-12-10T04:45:01.823414Z",
     "iopub.status.idle": "2024-12-10T04:45:18.450605Z",
     "shell.execute_reply": "2024-12-10T04:45:18.449913Z",
     "shell.execute_reply.started": "2024-12-10T04:45:01.823717Z"
    },
    "trusted": true
   },
   "outputs": [],
   "source": [
    "import recbole\n",
    "from recbole.quick_start import run_recbole"
   ]
  },
  {
   "cell_type": "code",
   "execution_count": 12,
   "metadata": {
    "execution": {
     "iopub.execute_input": "2024-12-10T07:15:38.263837Z",
     "iopub.status.busy": "2024-12-10T07:15:38.262920Z",
     "iopub.status.idle": "2024-12-10T07:15:38.268040Z",
     "shell.execute_reply": "2024-12-10T07:15:38.267203Z",
     "shell.execute_reply.started": "2024-12-10T07:15:38.263802Z"
    },
    "trusted": true
   },
   "outputs": [],
   "source": [
    "neumf_config_dict = {\n",
    "    'model': 'NeuMF',\n",
    "    'dataset': 'ml-1m',\n",
    "    'data_path': 'dataset',\n",
    "    'use_distributed': False,\n",
    "    'device': 'cuda:0',\n",
    "    'seed': 42,\n",
    "    'load_col': {'inter': ['user_id', 'item_id', 'rating']},\n",
    "    'save_dataloaders': True,\n",
    "    'save_data': True,\n",
    "    'save_model': True,\n",
    "    'show_progress': False\n",
    "}"
   ]
  },
  {
   "cell_type": "code",
   "execution_count": 13,
   "metadata": {
    "execution": {
     "iopub.execute_input": "2024-12-10T07:15:41.402523Z",
     "iopub.status.busy": "2024-12-10T07:15:41.402167Z",
     "iopub.status.idle": "2024-12-10T07:20:30.807652Z",
     "shell.execute_reply": "2024-12-10T07:20:30.806763Z",
     "shell.execute_reply.started": "2024-12-10T07:15:41.402491Z"
    },
    "trusted": true
   },
   "outputs": [
    {
     "name": "stderr",
     "output_type": "stream",
     "text": [
      "/opt/conda/lib/python3.10/site-packages/recbole/data/dataset/dataset.py:648: FutureWarning: A value is trying to be set on a copy of a DataFrame or Series through chained assignment using an inplace method.\n",
      "The behavior will change in pandas 3.0. This inplace method will never work because the intermediate object on which we are setting values always behaves as a copy.\n",
      "\n",
      "For example, when doing 'df[col].method(value, inplace=True)', try using 'df.method({col: value}, inplace=True)' or df[col] = df[col].method(value) instead, to perform the operation inplace on the original object.\n",
      "\n",
      "\n",
      "  feat[field].fillna(value=0, inplace=True)\n",
      "/opt/conda/lib/python3.10/site-packages/recbole/data/dataset/dataset.py:650: FutureWarning: A value is trying to be set on a copy of a DataFrame or Series through chained assignment using an inplace method.\n",
      "The behavior will change in pandas 3.0. This inplace method will never work because the intermediate object on which we are setting values always behaves as a copy.\n",
      "\n",
      "For example, when doing 'df[col].method(value, inplace=True)', try using 'df.method({col: value}, inplace=True)' or df[col] = df[col].method(value) instead, to perform the operation inplace on the original object.\n",
      "\n",
      "\n",
      "  feat[field].fillna(value=feat[field].mean(), inplace=True)\n",
      "/opt/conda/lib/python3.10/site-packages/torch/storage.py:414: FutureWarning: You are using `torch.load` with `weights_only=False` (the current default value), which uses the default pickle module implicitly. It is possible to construct malicious pickle data which will execute arbitrary code during unpickling (See https://github.com/pytorch/pytorch/blob/main/SECURITY.md#untrusted-models for more details). In a future release, the default value for `weights_only` will be flipped to `True`. This limits the functions that could be executed during unpickling. Arbitrary objects will no longer be allowed to be loaded via this mode unless they are explicitly allowlisted by the user via `torch.serialization.add_safe_globals`. We recommend you start setting `weights_only=True` for any use case where you don't have full control of the loaded file. Please open an issue on GitHub for any issues related to this experimental feature.\n",
      "  return torch.load(io.BytesIO(b))\n",
      "/opt/conda/lib/python3.10/site-packages/recbole/trainer/trainer.py:235: FutureWarning: `torch.cuda.amp.GradScaler(args...)` is deprecated. Please use `torch.amp.GradScaler('cuda', args...)` instead.\n",
      "  scaler = amp.GradScaler(enabled=self.enable_scaler)\n",
      "/opt/conda/lib/python3.10/site-packages/recbole/trainer/trainer.py:583: FutureWarning: You are using `torch.load` with `weights_only=False` (the current default value), which uses the default pickle module implicitly. It is possible to construct malicious pickle data which will execute arbitrary code during unpickling (See https://github.com/pytorch/pytorch/blob/main/SECURITY.md#untrusted-models for more details). In a future release, the default value for `weights_only` will be flipped to `True`. This limits the functions that could be executed during unpickling. Arbitrary objects will no longer be allowed to be loaded via this mode unless they are explicitly allowlisted by the user via `torch.serialization.add_safe_globals`. We recommend you start setting `weights_only=True` for any use case where you don't have full control of the loaded file. Please open an issue on GitHub for any issues related to this experimental feature.\n",
      "  checkpoint = torch.load(checkpoint_file, map_location=self.device)\n"
     ]
    },
    {
     "data": {
      "text/plain": [
       "{'best_valid_score': 0.3466,\n",
       " 'valid_score_bigger': True,\n",
       " 'best_valid_result': OrderedDict([('recall@10', 0.1262),\n",
       "              ('mrr@10', 0.3466),\n",
       "              ('ndcg@10', 0.1854),\n",
       "              ('hit@10', 0.674),\n",
       "              ('precision@10', 0.1481)]),\n",
       " 'test_result': OrderedDict([('recall@10', 0.141),\n",
       "              ('mrr@10', 0.4046),\n",
       "              ('ndcg@10', 0.2278),\n",
       "              ('hit@10', 0.6964),\n",
       "              ('precision@10', 0.1824)])}"
      ]
     },
     "execution_count": 13,
     "metadata": {},
     "output_type": "execute_result"
    }
   ],
   "source": [
    "run_recbole(model='NeuMF', dataset='ml-1m',config_dict=neumf_config_dict)"
   ]
  },
  {
   "cell_type": "code",
   "execution_count": 3,
   "metadata": {
    "execution": {
     "iopub.execute_input": "2024-12-10T04:46:23.121448Z",
     "iopub.status.busy": "2024-12-10T04:46:23.120816Z",
     "iopub.status.idle": "2024-12-10T04:46:23.127059Z",
     "shell.execute_reply": "2024-12-10T04:46:23.126247Z",
     "shell.execute_reply.started": "2024-12-10T04:46:23.121414Z"
    },
    "trusted": true
   },
   "outputs": [],
   "source": [
    "# configuration for bert4rec model\n",
    "config_dict = {\n",
    "    'field_separator': \"\\t\",\n",
    "    'seq_separator': \" \",\n",
    "    'USER_ID_FIELD': 'user_id',\n",
    "    'ITEM_ID_FIELD': 'item_id',\n",
    "    'RATING_FIELD': 'rating',\n",
    "    'TIME_FIELD': 'timestamp',\n",
    "    'NEG_PREFIX': 'neg_',\n",
    "    'LIST_SUFFIX': '_list',\n",
    "    'MAX_ITEM_LIST_LENGTH': 50,\n",
    "    'load_col': {\n",
    "        'inter': ['user_id', 'item_id', 'rating', 'timestamp'],\n",
    "    },\n",
    "    \n",
    "    # data filtering for interactions\n",
    "    'val_interval': {\n",
    "        'rating': \"[3,inf)\"\n",
    "    },\n",
    "    'unused_col': {\n",
    "        'inter': ['rating']\n",
    "    },\n",
    "\n",
    "    'user_inter_num_interval': \"[10,inf)\",\n",
    "    'item_inter_num_interval': \"[10,inf)\",\n",
    "\n",
    "    # training and evaluation\n",
    "    'epochs': 100,\n",
    "    'train_batch_size': 4096,\n",
    "    'eval_batch_size': 40960000,\n",
    "\n",
    "    # disable negative sampling\n",
    "    'train_neg_sample_args': None,\n",
    "    \n",
    "    # model\n",
    "    'embedding_size': 64,\n",
    "\n",
    "    'save_dataloaders': True,\n",
    "    'save_model': True,\n",
    "    'show_progress': False\n",
    "}"
   ]
  },
  {
   "cell_type": "code",
   "execution_count": 5,
   "metadata": {
    "execution": {
     "iopub.execute_input": "2024-12-10T04:46:40.027338Z",
     "iopub.status.busy": "2024-12-10T04:46:40.026418Z",
     "iopub.status.idle": "2024-12-10T07:05:44.394511Z",
     "shell.execute_reply": "2024-12-10T07:05:44.393604Z",
     "shell.execute_reply.started": "2024-12-10T04:46:40.027289Z"
    },
    "trusted": true
   },
   "outputs": [
    {
     "name": "stderr",
     "output_type": "stream",
     "text": [
      "/opt/conda/lib/python3.10/site-packages/recbole/data/dataset/dataset.py:648: FutureWarning: A value is trying to be set on a copy of a DataFrame or Series through chained assignment using an inplace method.\n",
      "The behavior will change in pandas 3.0. This inplace method will never work because the intermediate object on which we are setting values always behaves as a copy.\n",
      "\n",
      "For example, when doing 'df[col].method(value, inplace=True)', try using 'df.method({col: value}, inplace=True)' or df[col] = df[col].method(value) instead, to perform the operation inplace on the original object.\n",
      "\n",
      "\n",
      "  feat[field].fillna(value=0, inplace=True)\n",
      "/opt/conda/lib/python3.10/site-packages/recbole/data/dataset/dataset.py:650: FutureWarning: A value is trying to be set on a copy of a DataFrame or Series through chained assignment using an inplace method.\n",
      "The behavior will change in pandas 3.0. This inplace method will never work because the intermediate object on which we are setting values always behaves as a copy.\n",
      "\n",
      "For example, when doing 'df[col].method(value, inplace=True)', try using 'df.method({col: value}, inplace=True)' or df[col] = df[col].method(value) instead, to perform the operation inplace on the original object.\n",
      "\n",
      "\n",
      "  feat[field].fillna(value=feat[field].mean(), inplace=True)\n",
      "/opt/conda/lib/python3.10/site-packages/recbole/trainer/trainer.py:235: FutureWarning: `torch.cuda.amp.GradScaler(args...)` is deprecated. Please use `torch.amp.GradScaler('cuda', args...)` instead.\n",
      "  scaler = amp.GradScaler(enabled=self.enable_scaler)\n",
      "/opt/conda/lib/python3.10/site-packages/recbole/trainer/trainer.py:583: FutureWarning: You are using `torch.load` with `weights_only=False` (the current default value), which uses the default pickle module implicitly. It is possible to construct malicious pickle data which will execute arbitrary code during unpickling (See https://github.com/pytorch/pytorch/blob/main/SECURITY.md#untrusted-models for more details). In a future release, the default value for `weights_only` will be flipped to `True`. This limits the functions that could be executed during unpickling. Arbitrary objects will no longer be allowed to be loaded via this mode unless they are explicitly allowlisted by the user via `torch.serialization.add_safe_globals`. We recommend you start setting `weights_only=True` for any use case where you don't have full control of the loaded file. Please open an issue on GitHub for any issues related to this experimental feature.\n",
      "  checkpoint = torch.load(checkpoint_file, map_location=self.device)\n"
     ]
    },
    {
     "data": {
      "text/plain": [
       "{'best_valid_score': 0.1082,\n",
       " 'valid_score_bigger': True,\n",
       " 'best_valid_result': OrderedDict([('recall@10', 0.2705),\n",
       "              ('mrr@10', 0.1082),\n",
       "              ('ndcg@10', 0.146),\n",
       "              ('hit@10', 0.2705),\n",
       "              ('precision@10', 0.0271)]),\n",
       " 'test_result': OrderedDict([('recall@10', 0.2652),\n",
       "              ('mrr@10', 0.1103),\n",
       "              ('ndcg@10', 0.1464),\n",
       "              ('hit@10', 0.2652),\n",
       "              ('precision@10', 0.0265)])}"
      ]
     },
     "execution_count": 5,
     "metadata": {},
     "output_type": "execute_result"
    }
   ],
   "source": [
    "run_recbole(model='BERT4Rec', dataset='ml-1m',config_dict=config_dict)"
   ]
  },
  {
   "cell_type": "code",
   "execution_count": null,
   "metadata": {},
   "outputs": [],
   "source": [
    "# Get Rating Metrics for NeuMF\n",
    "config_dict = {\n",
    "    # General settings\n",
    "    'model': 'NeuMF',\n",
    "    'dataset': 'ml-1m',  # Example dataset, replace with your dataset\n",
    "    'save_data': True,\n",
    "    'save_model': True,\n",
    "    'show_progress': False,\n",
    "    'use_distributed': False,\n",
    "    'seed': 42, \n",
    "\n",
    "    # Training settings\n",
    "    'epochs': 100,\n",
    "    'train_batch_size': 256,\n",
    "    'learning_rate': 0.001,\n",
    "    'optimizer': 'adam',\n",
    "    'train_neg_sample_args': None,\n",
    "    'gpu_id': '0, 1',\n",
    "\n",
    "    # Model-specific settings\n",
    "    'hidden_size': 64,         # Dimension of hidden layers\n",
    "    'num_blocks': 2,           # Number of transformer layers\n",
    "    'num_heads': 4,            # Number of attention heads\n",
    "    'dropout_prob': 0.2,       # Dropout probability\n",
    "    'initializer_range': 0.02, # Weight initialization range\n",
    "    'max_seq_length': 50,      # Maximum sequence length for training\n",
    "    'mask_ratio': 0.2,         # Masking ratio for input sequences\n",
    "\n",
    "    # Data preprocessing\n",
    "    'USER_ID_FIELD': 'user_id',\n",
    "    'ITEM_ID_FIELD': 'item_id',\n",
    "    'LABEL_FIELD': 'rating',\n",
    "    'load_col': {              # Columns to load\n",
    "        'inter': ['user_id', 'item_id', 'label', 'rating','timestamp'],\n",
    "    },\n",
    "\n",
    "    # Evaluation settings\n",
    "    'eval_args': {\n",
    "        'split': {'RS': [0.8, 0.1, 0.1]}, # Train/validation/test split\n",
    "        'group_by': 'user',\n",
    "        'order': 'TO',                   # Order by timestamp\n",
    "        'mode': 'uni100',                  # sampled eval instead of full\n",
    "    },\n",
    "    'metrics': ['MAE', 'RMSE'],       # Metrics to evaluate\n",
    "    'valid_metric': 'MAE' #  Metric for early stopping\n",
    "}\n",
    "\n",
    "# Run the RecBole model with the configuration\n",
    "run_recbole(config_dict=config_dict)"
   ]
  },
  {
   "cell_type": "code",
   "execution_count": null,
   "metadata": {},
   "outputs": [],
   "source": [
    "# Get Rating Metrics for BERT4Rec\n",
    "config_dict = {\n",
    "    # General settings\n",
    "    'model': 'BERT4Rec',\n",
    "    'dataset': 'ml-1m',  # Example dataset, replace with your dataset\n",
    "    'save_data': True,\n",
    "    'save_model': True,\n",
    "    'show_progress': False,\n",
    "    'use_distributed': False,\n",
    "    'seed': 42, \n",
    "\n",
    "    # Training settings\n",
    "    'epochs': 100,\n",
    "    'train_batch_size': 4096,\n",
    "    'eval_batch_size': 40960000,\n",
    "    'learning_rate': 0.001,\n",
    "    'optimizer': 'adam',\n",
    "    'train_neg_sample_args': None,\n",
    "    'gpu_id': '0, 1',\n",
    "\n",
    "    # Model-specific settings\n",
    "    'hidden_size': 64,         # Dimension of hidden layers\n",
    "    'num_blocks': 2,           # Number of transformer layers\n",
    "    'num_heads': 4,            # Number of attention heads\n",
    "    'dropout_prob': 0.2,       # Dropout probability\n",
    "    'initializer_range': 0.02, # Weight initialization range\n",
    "    'max_seq_length': 50,      # Maximum sequence length for training\n",
    "    'mask_ratio': 0.2,         # Masking ratio for input sequences\n",
    "\n",
    "    # Data preprocessing\n",
    "    'USER_ID_FIELD': 'user_id',\n",
    "    'ITEM_ID_FIELD': 'item_id',\n",
    "    'LABEL_FIELD': 'rating',\n",
    "    'load_col': {              # Columns to load\n",
    "        'inter': ['user_id', 'item_id', 'label', 'rating','timestamp'],\n",
    "    },\n",
    "\n",
    "    # Evaluation settings\n",
    "    'eval_args': {\n",
    "        'split': {'RS': [0.8, 0.1, 0.1]}, # Train/validation/test split\n",
    "        'group_by': 'user',\n",
    "        'order': 'TO',                   # Order by timestamp\n",
    "        'mode': 'uni100',                  # sampled eval instead of full\n",
    "    },\n",
    "    'metrics': ['MAE', 'RMSE'],       # Metrics to evaluate\n",
    "    'valid_metric': 'MAE' #  Metric for early stopping\n",
    "}\n",
    "\n",
    "# Run the RecBole model with the configuration\n",
    "run_recbole(config_dict=config_dict)"
   ]
  }
 ],
 "metadata": {
  "kaggle": {
   "accelerator": "nvidiaTeslaT4",
   "dataSources": [],
   "dockerImageVersionId": 30805,
   "isGpuEnabled": true,
   "isInternetEnabled": true,
   "language": "python",
   "sourceType": "notebook"
  },
  "kernelspec": {
   "display_name": "Python 3",
   "language": "python",
   "name": "python3"
  },
  "language_info": {
   "codemirror_mode": {
    "name": "ipython",
    "version": 3
   },
   "file_extension": ".py",
   "mimetype": "text/x-python",
   "name": "python",
   "nbconvert_exporter": "python",
   "pygments_lexer": "ipython3",
   "version": "3.10.14"
  }
 },
 "nbformat": 4,
 "nbformat_minor": 4
}
