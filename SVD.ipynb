{
 "cells": [
  {
   "cell_type": "code",
   "execution_count": 14,
   "id": "9e2bf99b-1b40-439e-9e6d-1b851966ec8d",
   "metadata": {},
   "outputs": [],
   "source": [
    "import pandas as pd\n",
    "from surprise import Dataset, SVD, Reader\n",
    "from surprise.model_selection import train_test_split\n",
    "from surprise import accuracy"
   ]
  },
  {
   "cell_type": "code",
   "execution_count": 25,
   "id": "e3237840-aa01-463c-a69a-fcdbf8f10dc4",
   "metadata": {},
   "outputs": [
    {
     "name": "stdout",
     "output_type": "stream",
     "text": [
      "  userID itemID  rating\n",
      "0      1   1193       5\n",
      "1      1    661       3\n",
      "2      1    914       3\n",
      "3      1   3408       4\n",
      "4      1   2355       5\n",
      "<class 'pandas.core.frame.DataFrame'>\n",
      "RangeIndex: 1000209 entries, 0 to 1000208\n",
      "Data columns (total 3 columns):\n",
      " #   Column  Non-Null Count    Dtype \n",
      "---  ------  --------------    ----- \n",
      " 0   userID  1000209 non-null  object\n",
      " 1   itemID  1000209 non-null  object\n",
      " 2   rating  1000209 non-null  int64 \n",
      "dtypes: int64(1), object(2)\n",
      "memory usage: 22.9+ MB\n",
      "None\n"
     ]
    }
   ],
   "source": [
    "file_path = r'C:\\Users\\rynoc\\Python_Analysis\\ml-1m.inter'\n",
    "df = pd.read_csv(file_path, sep='\\t')\n",
    "\n",
    "df.rename(columns={'user_id:token':'userID', 'item_id:token':'itemID', 'rating:float':'rating'}, inplace=True)\n",
    "\n",
    "df_clean = df.drop('timestamp:float', axis=1) \n",
    "\n",
    "df_clean['userID'] = df_clean['userID'].astype(str)\n",
    "df_clean['itemID'] = df_clean['itemID'].astype(str)\n",
    "\n",
    "print(df_clean.head())\n",
    "print(df_clean.info())"
   ]
  },
  {
   "cell_type": "code",
   "execution_count": 22,
   "id": "e2fee704-e652-4f16-bd46-71d71d531495",
   "metadata": {},
   "outputs": [
    {
     "name": "stdout",
     "output_type": "stream",
     "text": [
      "RMSE: 0.8714\n",
      "User: 1738, Item: 2369, Actual: 3.0, Predicted: 3.01\n",
      "User: 701, Item: 1193, Actual: 5.0, Predicted: 4.16\n",
      "User: 2478, Item: 3469, Actual: 4.0, Predicted: 3.94\n",
      "User: 3106, Item: 3142, Actual: 3.0, Predicted: 3.33\n",
      "User: 3450, Item: 3246, Actual: 4.0, Predicted: 3.49\n"
     ]
    }
   ],
   "source": [
    "\n",
    "# Initialize the Surprise Reader with the appropriate rating scale (1 to 5 for MovieLens)\n",
    "reader = Reader(rating_scale=(1, 5))\n",
    "\n",
    "# Load the DataFrame into Surprise Dataset\n",
    "data = Dataset.load_from_df(df_clean, reader)\n",
    "\n",
    "# Split the data into training and test sets\n",
    "trainset, testset = train_test_split(data, test_size=0.2)\n",
    "\n",
    "# Initialize the SVD model\n",
    "model = SVD()\n",
    "\n",
    "# Train the model on the training data\n",
    "model.fit(trainset)\n",
    "\n",
    "# Test the model on the test data\n",
    "predictions = model.test(testset)\n",
    "\n",
    "# Evaluate the model using RMSE\n",
    "accuracy.rmse(predictions)\n",
    "\n",
    "# Display sample predictions\n",
    "for pred in predictions[:5]:\n",
    "    print(f\"User: {pred.uid}, Item: {pred.iid}, Actual: {pred.r_ui}, Predicted: {pred.est:.2f}\")"
   ]
  },
  {
   "cell_type": "code",
   "execution_count": null,
   "id": "247a12b4-7625-48cc-806b-784ffe1f0900",
   "metadata": {},
   "outputs": [],
   "source": []
  }
 ],
 "metadata": {
  "kernelspec": {
   "display_name": "Python 3 (ipykernel)",
   "language": "python",
   "name": "python3"
  },
  "language_info": {
   "codemirror_mode": {
    "name": "ipython",
    "version": 3
   },
   "file_extension": ".py",
   "mimetype": "text/x-python",
   "name": "python",
   "nbconvert_exporter": "python",
   "pygments_lexer": "ipython3",
   "version": "3.9.20"
  }
 },
 "nbformat": 4,
 "nbformat_minor": 5
}
