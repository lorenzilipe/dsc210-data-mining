{
 "cells": [
  {
   "cell_type": "code",
   "execution_count": 2,
   "id": "55369e5b-44ef-4e4b-b560-dcba272413ff",
   "metadata": {},
   "outputs": [
    {
     "name": "stdout",
     "output_type": "stream",
     "text": [
      "RMSE: 1.4474\n",
      "User: C, Item: item1, Actual: 2.0, Predicted: 4.05\n",
      "User: A, Item: item1, Actual: 4.0, Predicted: 3.92\n",
      "\n",
      "Predicted rating for User E on Item item1: 3.92\n"
     ]
    }
   ],
   "source": [
    "# Import necessary libraries\n",
    "from surprise import SVD\n",
    "from surprise import Dataset\n",
    "from surprise import Reader\n",
    "from surprise.model_selection import train_test_split\n",
    "from surprise import accuracy\n",
    "import pandas as pd\n",
    "\n",
    "# Sample data: User-Item-Rating matrix\n",
    "# Example dataset\n",
    "ratings_dict = {\n",
    "    \"userID\": [\"A\", \"A\", \"B\", \"B\", \"C\", \"C\", \"D\", \"D\"],\n",
    "    \"itemID\": [\"item1\", \"item2\", \"item2\", \"item3\", \"item1\", \"item3\", \"item1\", \"item2\"],\n",
    "    \"rating\": [4, 5, 3, 4, 2, 5, 3, 4]\n",
    "}\n",
    "\n",
    "# Define a Reader object (min and max ratings)\n",
    "reader = Reader(rating_scale=(1, 5))\n",
    "\n",
    "# Load data into a Dataset object\n",
    "data = Dataset.load_from_df(pd.DataFrame(ratings_dict), reader)\n",
    "\n",
    "# Split the data into training and test sets\n",
    "trainset, testset = train_test_split(data, test_size=0.25)\n",
    "\n",
    "# Build the SVD model\n",
    "model = SVD()\n",
    "\n",
    "# Train the model on the training data\n",
    "model.fit(trainset)\n",
    "\n",
    "# Test the model on the test data\n",
    "predictions = model.test(testset)\n",
    "\n",
    "# Evaluate the model using RMSE\n",
    "rmse = accuracy.rmse(predictions)\n",
    "\n",
    "# Display predictions for each user-item pair\n",
    "for pred in predictions:\n",
    "    print(f\"User: {pred.uid}, Item: {pred.iid}, Actual: {pred.r_ui}, Predicted: {pred.est:.2f}\")\n",
    "\n",
    "# Making a new prediction for a specific user-item pair\n",
    "new_user = \"E\"\n",
    "new_item = \"item1\"\n",
    "predicted_rating = model.predict(new_user, new_item)\n",
    "print(f\"\\nPredicted rating for User {new_user} on Item {new_item}: {predicted_rating.est:.2f}\")\n"
   ]
  },
  {
   "cell_type": "code",
   "execution_count": null,
   "id": "e2fee704-e652-4f16-bd46-71d71d531495",
   "metadata": {},
   "outputs": [],
   "source": []
  }
 ],
 "metadata": {
  "kernelspec": {
   "display_name": "Python 3 (ipykernel)",
   "language": "python",
   "name": "python3"
  },
  "language_info": {
   "codemirror_mode": {
    "name": "ipython",
    "version": 3
   },
   "file_extension": ".py",
   "mimetype": "text/x-python",
   "name": "python",
   "nbconvert_exporter": "python",
   "pygments_lexer": "ipython3",
   "version": "3.9.20"
  }
 },
 "nbformat": 4,
 "nbformat_minor": 5
}
