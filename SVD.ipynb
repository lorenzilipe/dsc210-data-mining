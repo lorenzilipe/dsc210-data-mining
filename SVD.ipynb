{
 "cells": [
  {
   "cell_type": "code",
   "execution_count": 9,
   "id": "9e2bf99b-1b40-439e-9e6d-1b851966ec8d",
   "metadata": {},
   "outputs": [],
   "source": [
    "import pandas as pd\n",
    "from surprise import Dataset, SVD, Reader\n",
    "from surprise.model_selection import train_test_split\n",
    "from surprise import accuracy\n",
    "from collections import defaultdict\n",
    "\n",
    "from recommenders.utils.timer import Timer\n",
    "from recommenders.datasets import movielens\n",
    "from recommenders.datasets.python_splitters import python_random_split\n",
    "from recommenders.evaluation.python_evaluation import (\n",
    "    rmse,\n",
    "    mae,\n",
    "    rsquared,\n",
    "    exp_var,\n",
    "    map_at_k,\n",
    "    ndcg_at_k,\n",
    "    precision_at_k,\n",
    "    recall_at_k,\n",
    "    get_top_k_items,\n",
    ")\n",
    "from recommenders.models.surprise.surprise_utils import (\n",
    "    predict,\n",
    "    compute_ranking_predictions,\n",
    ")\n",
    "from recommenders.utils.notebook_utils import store_metadata"
   ]
  },
  {
   "cell_type": "code",
   "execution_count": 10,
   "id": "e3237840-aa01-463c-a69a-fcdbf8f10dc4",
   "metadata": {},
   "outputs": [
    {
     "name": "stdout",
     "output_type": "stream",
     "text": [
      "  userID itemID  rating\n",
      "0      1   1193       5\n",
      "1      1    661       3\n",
      "2      1    914       3\n",
      "3      1   3408       4\n",
      "4      1   2355       5\n",
      "<class 'pandas.core.frame.DataFrame'>\n",
      "RangeIndex: 1000209 entries, 0 to 1000208\n",
      "Data columns (total 3 columns):\n",
      " #   Column  Non-Null Count    Dtype \n",
      "---  ------  --------------    ----- \n",
      " 0   userID  1000209 non-null  object\n",
      " 1   itemID  1000209 non-null  object\n",
      " 2   rating  1000209 non-null  int64 \n",
      "dtypes: int64(1), object(2)\n",
      "memory usage: 22.9+ MB\n",
      "None\n"
     ]
    }
   ],
   "source": [
    "file_path = r'C:\\Users\\rynoc\\Python_Analysis\\ml-1m.inter'\n",
    "df = pd.read_csv(file_path, sep='\\t')\n",
    "\n",
    "df.rename(columns={'user_id:token':'userID', 'item_id:token':'itemID', 'rating:float':'rating'}, inplace=True)\n",
    "\n",
    "df_clean = df.drop('timestamp:float', axis=1) \n",
    "\n",
    "df_clean['userID'] = df_clean['userID'].astype(str)\n",
    "df_clean['itemID'] = df_clean['itemID'].astype(str)\n",
    "\n",
    "print(df_clean.head())\n",
    "print(df_clean.info())"
   ]
  },
  {
   "cell_type": "code",
   "execution_count": 6,
   "id": "e2fee704-e652-4f16-bd46-71d71d531495",
   "metadata": {
    "scrolled": true
   },
   "outputs": [
    {
     "name": "stdout",
     "output_type": "stream",
     "text": [
      "RMSE: 0.8779\n",
      "User: 3370, Item: 671, Actual: 4.0, Predicted: 3.68\n",
      "User: 3971, Item: 3147, Actual: 5.0, Predicted: 3.84\n",
      "User: 1398, Item: 906, Actual: 4.0, Predicted: 3.84\n",
      "User: 5468, Item: 1945, Actual: 4.0, Predicted: 4.55\n",
      "User: 3163, Item: 903, Actual: 4.0, Predicted: 4.98\n"
     ]
    }
   ],
   "source": [
    "\n",
    "# Initialize the Surprise Reader with the appropriate rating scale (1 to 5 for MovieLens)\n",
    "reader = Reader(rating_scale=(1, 5))\n",
    "\n",
    "# Load the DataFrame into Surprise Dataset\n",
    "data = Dataset.load_from_df(df_clean, reader)\n",
    "\n",
    "# Split the data into training and test sets\n",
    "trainset, testset = train_test_split(data, test_size=0.2)\n",
    "\n",
    "# Initialize the SVD model\n",
    "model = SVD(biased=False)\n",
    "\n",
    "# Train the model on the training data\n",
    "model.fit(trainset)\n",
    "\n",
    "# Test the model on the test data\n",
    "predictions = model.test(testset)\n",
    "\n",
    "# Evaluate the model using RMSE\n",
    "accuracy.rmse(predictions)\n",
    "\n",
    "# Display sample predictions\n",
    "for pred in predictions[:5]:\n",
    "    print(f\"User: {pred.uid}, Item: {pred.iid}, Actual: {pred.r_ui}, Predicted: {pred.est:.2f}\")"
   ]
  },
  {
   "cell_type": "code",
   "execution_count": 4,
   "id": "247a12b4-7625-48cc-806b-784ffe1f0900",
   "metadata": {},
   "outputs": [
    {
     "name": "stdout",
     "output_type": "stream",
     "text": [
      "RMSE: 0.8734\n",
      "MSE: 0.7629\n",
      "MAE:  0.6874\n",
      "FCP:  0.7498\n"
     ]
    }
   ],
   "source": [
    "RMSE = accuracy.rmse(predictions)\n",
    "MSE = accuracy.mse(predictions)\n",
    "MAE = accuracy.mae(predictions)\n",
    "fcp = accuracy.fcp(predictions)"
   ]
  },
  {
   "cell_type": "code",
   "execution_count": null,
   "id": "777b1dda-7056-4f05-bdff-870f8a08df1c",
   "metadata": {},
   "outputs": [],
   "source": [
    "def precision_recall_at_k(predictions, k=10, threshold=4.0):\n",
    "    \"\"\"\n",
    "    Calculate precision and recall at k.\n",
    "\n",
    "    Parameters:\n",
    "    - predictions: List of predictions from the model.\n",
    "    - k: Number of top recommendations to consider for precision/recall.\n",
    "    - threshold: Minimum rating to consider an item as relevant.\n",
    "\n",
    "    Returns:\n",
    "    - precision: Precision score.\n",
    "    - recall: Recall score.\n",
    "    \"\"\"\n",
    "    # Mapping predictions to users\n",
    "    user_est_true = {}\n",
    "    for uid, iid, true_r, est, _ in predictions:\n",
    "        if uid not in user_est_true:\n",
    "            user_est_true[uid] = []\n",
    "        user_est_true[uid].append((est, true_r))\n",
    "\n",
    "    precisions = []\n",
    "    recalls = []\n",
    "\n",
    "    for uid, user_ratings in user_est_true.items():\n",
    "        # Sort by estimated rating and take top k\n",
    "        user_ratings.sort(key=lambda x: x[0], reverse=True)\n",
    "        top_k = user_ratings[:k]\n",
    "\n",
    "        # Calculate number of relevant items in top k\n",
    "        relevant_and_recommended = sum((true_r >= threshold) for (_, true_r) in top_k)\n",
    "        relevant_items = sum((true_r >= threshold) for (_, true_r) in user_ratings)\n",
    "\n",
    "        precisions.append(relevant_and_recommended / k if k > 0 else 0)\n",
    "        recalls.append(relevant_and_recommended / relevant_items if relevant_items > 0 else 0)\n",
    "\n",
    "    # Average precision and recall across all users\n",
    "    precision = sum(precisions) / len(precisions)\n",
    "    recall = sum(recalls) / len(recalls)\n",
    "\n",
    "    return precision, recall\n",
    "\n",
    "precision, recall = precision_recall_at_k(predictions, k=5, threshold=4.0)\n",
    "print(f\"Precision: {precision:.4f}\")\n",
    "print(f\"Recall: {recall:.4f}\")\n"
   ]
  },
  {
   "cell_type": "markdown",
   "id": "dea378a2-b935-4d67-a0cd-0288f733f451",
   "metadata": {},
   "source": [
    "# Test zone"
   ]
  },
  {
   "cell_type": "code",
   "execution_count": 8,
   "id": "f16a76f0-6d68-44be-8b37-a28c952f6044",
   "metadata": {},
   "outputs": [
    {
     "ename": "NameError",
     "evalue": "name 'train' is not defined",
     "output_type": "error",
     "traceback": [
      "\u001b[1;31m---------------------------------------------------------------------------\u001b[0m",
      "\u001b[1;31mNameError\u001b[0m                                 Traceback (most recent call last)",
      "Cell \u001b[1;32mIn[8], line 3\u001b[0m\n\u001b[0;32m      1\u001b[0m \u001b[38;5;28;01mwith\u001b[39;00m Timer() \u001b[38;5;28;01mas\u001b[39;00m test_time:\n\u001b[0;32m      2\u001b[0m     all_predictions \u001b[38;5;241m=\u001b[39m compute_ranking_predictions(\n\u001b[1;32m----> 3\u001b[0m         model, \u001b[43mtrain\u001b[49m, usercol\u001b[38;5;241m=\u001b[39m\u001b[38;5;124m\"\u001b[39m\u001b[38;5;124muserID\u001b[39m\u001b[38;5;124m\"\u001b[39m, itemcol\u001b[38;5;241m=\u001b[39m\u001b[38;5;124m\"\u001b[39m\u001b[38;5;124mitemID\u001b[39m\u001b[38;5;124m\"\u001b[39m, remove_seen\u001b[38;5;241m=\u001b[39m\u001b[38;5;28;01mTrue\u001b[39;00m\n\u001b[0;32m      4\u001b[0m     )\n\u001b[0;32m      6\u001b[0m \u001b[38;5;28mprint\u001b[39m(\u001b[38;5;124mf\u001b[39m\u001b[38;5;124m\"\u001b[39m\u001b[38;5;124mTook \u001b[39m\u001b[38;5;132;01m{\u001b[39;00mtest_time\u001b[38;5;241m.\u001b[39minterval\u001b[38;5;132;01m}\u001b[39;00m\u001b[38;5;124m seconds for prediction.\u001b[39m\u001b[38;5;124m\"\u001b[39m)\n",
      "\u001b[1;31mNameError\u001b[0m: name 'train' is not defined"
     ]
    }
   ],
   "source": [
    "with Timer() as test_time:\n",
    "    all_predictions = compute_ranking_predictions(\n",
    "        model, train, usercol=\"userID\", itemcol=\"itemID\", remove_seen=True\n",
    "    )\n",
    "\n",
    "print(f\"Took {test_time.interval} seconds for prediction.\")"
   ]
  },
  {
   "cell_type": "code",
   "execution_count": null,
   "id": "865cfe7a-0c94-468c-9f28-d354325dd334",
   "metadata": {},
   "outputs": [],
   "source": []
  },
  {
   "cell_type": "code",
   "execution_count": null,
   "id": "861597ac-7c70-4d92-bbe6-1c85724255ae",
   "metadata": {},
   "outputs": [],
   "source": []
  }
 ],
 "metadata": {
  "kernelspec": {
   "display_name": "Python 3 (ipykernel)",
   "language": "python",
   "name": "python3"
  },
  "language_info": {
   "codemirror_mode": {
    "name": "ipython",
    "version": 3
   },
   "file_extension": ".py",
   "mimetype": "text/x-python",
   "name": "python",
   "nbconvert_exporter": "python",
   "pygments_lexer": "ipython3",
   "version": "3.11.7"
  }
 },
 "nbformat": 4,
 "nbformat_minor": 5
}
