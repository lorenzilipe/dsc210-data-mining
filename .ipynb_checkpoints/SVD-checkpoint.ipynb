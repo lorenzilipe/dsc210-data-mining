{
 "cells": [
  {
   "cell_type": "code",
   "execution_count": 2,
   "id": "9e2bf99b-1b40-439e-9e6d-1b851966ec8d",
   "metadata": {},
   "outputs": [],
   "source": [
    "import pandas as pd\n",
    "from surprise import Dataset, SVD, Reader\n",
    "from surprise.model_selection import train_test_split\n",
    "from surprise import accuracy"
   ]
  },
  {
   "cell_type": "code",
   "execution_count": 3,
   "id": "e3237840-aa01-463c-a69a-fcdbf8f10dc4",
   "metadata": {},
   "outputs": [
    {
     "name": "stdout",
     "output_type": "stream",
     "text": [
      "  userID itemID  rating\n",
      "0      1   1193       5\n",
      "1      1    661       3\n",
      "2      1    914       3\n",
      "3      1   3408       4\n",
      "4      1   2355       5\n",
      "<class 'pandas.core.frame.DataFrame'>\n",
      "RangeIndex: 1000209 entries, 0 to 1000208\n",
      "Data columns (total 3 columns):\n",
      " #   Column  Non-Null Count    Dtype \n",
      "---  ------  --------------    ----- \n",
      " 0   userID  1000209 non-null  object\n",
      " 1   itemID  1000209 non-null  object\n",
      " 2   rating  1000209 non-null  int64 \n",
      "dtypes: int64(1), object(2)\n",
      "memory usage: 22.9+ MB\n",
      "None\n"
     ]
    }
   ],
   "source": [
    "file_path = r'C:\\Users\\rynoc\\Python_Analysis\\ml-1m.inter'\n",
    "df = pd.read_csv(file_path, sep='\\t')\n",
    "\n",
    "df.rename(columns={'user_id:token':'userID', 'item_id:token':'itemID', 'rating:float':'rating'}, inplace=True)\n",
    "\n",
    "df_clean = df.drop('timestamp:float', axis=1) \n",
    "\n",
    "df_clean['userID'] = df_clean['userID'].astype(str)\n",
    "df_clean['itemID'] = df_clean['itemID'].astype(str)\n",
    "\n",
    "print(df_clean.head())\n",
    "print(df_clean.info())"
   ]
  },
  {
   "cell_type": "code",
   "execution_count": 7,
   "id": "e2fee704-e652-4f16-bd46-71d71d531495",
   "metadata": {
    "scrolled": true
   },
   "outputs": [
    {
     "name": "stdout",
     "output_type": "stream",
     "text": [
      "RMSE: 0.8711\n",
      "User: 5815, Item: 2019, Actual: 5.0, Predicted: 4.69\n",
      "User: 3886, Item: 3751, Actual: 4.0, Predicted: 4.24\n",
      "User: 5608, Item: 3160, Actual: 4.0, Predicted: 3.67\n",
      "User: 4033, Item: 2193, Actual: 4.0, Predicted: 4.13\n",
      "User: 1954, Item: 593, Actual: 4.0, Predicted: 4.10\n"
     ]
    }
   ],
   "source": [
    "\n",
    "# Initialize the Surprise Reader with the appropriate rating scale (1 to 5 for MovieLens)\n",
    "reader = Reader(rating_scale=(1, 5))\n",
    "\n",
    "# Load the DataFrame into Surprise Dataset\n",
    "data = Dataset.load_from_df(df_clean, reader)\n",
    "\n",
    "# Split the data into training and test sets\n",
    "trainset, testset = train_test_split(data, test_size=0.2)\n",
    "\n",
    "# Initialize the SVD model\n",
    "model = SVD()\n",
    "\n",
    "# Train the model on the training data\n",
    "model.fit(trainset)\n",
    "\n",
    "# Test the model on the test data\n",
    "predictions = model.test(testset)\n",
    "\n",
    "# Evaluate the model using RMSE\n",
    "accuracy.rmse(predictions)\n",
    "\n",
    "# Display sample predictions\n",
    "for pred in predictions[:5]:\n",
    "    print(f\"User: {pred.uid}, Item: {pred.iid}, Actual: {pred.r_ui}, Predicted: {pred.est:.2f}\")"
   ]
  },
  {
   "cell_type": "code",
   "execution_count": 8,
   "id": "247a12b4-7625-48cc-806b-784ffe1f0900",
   "metadata": {},
   "outputs": [
    {
     "name": "stdout",
     "output_type": "stream",
     "text": [
      "RMSE: 0.8711\n",
      "MSE: 0.7589\n",
      "MAE:  0.6838\n",
      "FCP:  0.7455\n"
     ]
    }
   ],
   "source": [
    "RESME = accuracy.rmse(predictions)\n",
    "MSE = accuracy.mse(predictions)\n",
    "MAE = accuracy.mae(predictions)\n",
    "fcp = accuracy.fcp(predictions)"
   ]
  },
  {
   "cell_type": "code",
   "execution_count": null,
   "id": "777b1dda-7056-4f05-bdff-870f8a08df1c",
   "metadata": {},
   "outputs": [],
   "source": []
  },
  {
   "cell_type": "code",
   "execution_count": null,
   "id": "6e8e23ef-fc97-411a-af9e-ddcee62ca9a3",
   "metadata": {},
   "outputs": [],
   "source": []
  }
 ],
 "metadata": {
  "kernelspec": {
   "display_name": "Python 3 (ipykernel)",
   "language": "python",
   "name": "python3"
  },
  "language_info": {
   "codemirror_mode": {
    "name": "ipython",
    "version": 3
   },
   "file_extension": ".py",
   "mimetype": "text/x-python",
   "name": "python",
   "nbconvert_exporter": "python",
   "pygments_lexer": "ipython3",
   "version": "3.9.20"
  }
 },
 "nbformat": 4,
 "nbformat_minor": 5
}
